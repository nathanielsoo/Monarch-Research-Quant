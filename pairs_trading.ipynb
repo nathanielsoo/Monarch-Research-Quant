{
 "cells": [
  {
   "cell_type": "markdown",
   "metadata": {},
   "source": [
    "# Pairs Trading Strategy"
   ]
  },
  {
   "cell_type": "code",
   "execution_count": null,
   "metadata": {},
   "outputs": [],
   "source": [
    "# Install necessary packages\n",
    "%pip install statsmodels"
   ]
  },
  {
   "cell_type": "code",
   "execution_count": 19,
   "metadata": {},
   "outputs": [],
   "source": [
    "# Importing of libraries\n",
    "from statsmodels.api import OLS, add_constant\n",
    "from statsmodels.tsa.stattools import adfuller\n",
    "import pandas as pd\n",
    "import numpy as np \n",
    "import matplotlib.pyplot as plt\n",
    "import yfinance as yf"
   ]
  },
  {
   "cell_type": "markdown",
   "metadata": {},
   "source": [
    "## 🧺 Asset Universe Selection/Data preprocessing + cleaning\n"
   ]
  },
  {
   "cell_type": "code",
   "execution_count": 15,
   "metadata": {},
   "outputs": [
    {
     "name": "stderr",
     "output_type": "stream",
     "text": [
      "[*********************100%***********************]  2 of 2 completed"
     ]
    },
    {
     "name": "stdout",
     "output_type": "stream",
     "text": [
      "Date\n",
      "2020-01-02    4.298928\n",
      "2020-01-03    4.289292\n",
      "2020-01-06    4.297120\n",
      "2020-01-07    4.292470\n",
      "2020-01-08    4.308212\n",
      "Name: AAPL, dtype: float64\n"
     ]
    },
    {
     "name": "stderr",
     "output_type": "stream",
     "text": [
      "\n"
     ]
    }
   ],
   "source": [
    "# Data preprocessing\n",
    "\n",
    "def normalize_data(ticker1, ticker2, startdate, enddate):\n",
    "    \"\"\"\n",
    "    This function cleans and normalizes the two tickers we wish to pair trade in a given timeframe. \n",
    "    The code takes logs of the price series to stabilize variance and enhance the linearity of relationships between assets. \n",
    "    This helps ensure that the regression and cointegration tests produce meaningful and stable results, rather than being skewed by raw price scales or volatility outliers.\n",
    "\n",
    "    Argument:\n",
    "    ticker1, ticker2 -- the two tickers we want to trade\n",
    "    date1, date2 -- starting and ending dates of the timeframe\n",
    "\n",
    "    Returns:\n",
    "    log_data -- closing prices for the two tickers, which have been through log transformation\n",
    "    \n",
    "    (Optional) log_zscore_data -- closing prices for the two tickers, which have been through log transformation and normalization\n",
    "    \n",
    "    \"\"\"\n",
    "    # Log transformation on closing prices\n",
    "    tickers = [ticker1, ticker2]\n",
    "    data = yf.download(tickers, start=startdate, end=enddate, auto_adjust=True)\n",
    "    data = data.dropna()\n",
    "    log_data1 = np.log1p(data[\"Close\"][ticker1])\n",
    "    log_data2 = np.log1p(data[\"Close\"][ticker2])\n",
    "    \n",
    "    # Calculating the z-scores \n",
    "    log_zscore_data1 = (log_data1-log_data1.mean())/log_data1.std()\n",
    "    log_zscore_data2 = (log_data2-log_data2.mean())/log_data2.std()\n",
    "\n",
    "    return log_data1,log_data2, data\n",
    "\n",
    "\n",
    "# Example usage \n",
    "d1, d2, d3 = normalize_data('AAPL', 'MSFT', '2020-01-01', '2024-12-31')\n",
    "print (d1.head())"
   ]
  },
  {
   "cell_type": "markdown",
   "metadata": {},
   "source": [
    "## 🔍 Cointegration Testing (Engle-Granger)\n"
   ]
  },
  {
   "cell_type": "code",
   "execution_count": 12,
   "metadata": {},
   "outputs": [
    {
     "name": "stdout",
     "output_type": "stream",
     "text": [
      "(False, 0.9950820197762814, 0.2523713821320346, None)\n"
     ]
    },
    {
     "name": "stderr",
     "output_type": "stream",
     "text": [
      "/var/folders/37/9t3_hgl141d_6mnydltwmmyh0000gn/T/ipykernel_61813/885639854.py:44: FutureWarning: Series.__getitem__ treating keys as positions is deprecated. In a future version, integer keys will always be treated as labels (consistent with DataFrame behavior). To access a value by position, use `ser.iloc[pos]`\n",
      "  beta = model.params[1]\n"
     ]
    }
   ],
   "source": [
    "# Cointegration Test\n",
    "def test_cointegration(series_y, series_x, significance=0.05):\n",
    "    \"\"\"\n",
    "    To test for cointegration, we first need to ensure the two price series are non stationary. This is done by ADF test.\n",
    "\n",
    "    ADF Test:\n",
    "    - Null hypothesis: Non Stationarity exists in the series.\n",
    "    - Alternative Hypothesis: Stationarity exists in the series.\n",
    "\n",
    "    Therefore to indicate non-stationarity in both time series, we seek a p-value > signficance.\n",
    "\n",
    "    The Engle-Granger test then provides a p-value indicating whether the pair is likely cointegrated. \n",
    "    We look for a p-value below a chosen significance threshold (commonly 5%).\n",
    "\n",
    "    Engle-Granger test:\n",
    "    - Regress one series on the other\n",
    "    - Find the residuals\n",
    "    - Test residuals for stationarity\n",
    "    \n",
    "    Arguments:\n",
    "    - series_y: Dependent asset (e.g., AAPL)\n",
    "    - series_x: Independent asset (e.g., MSFT)\n",
    "    - significance: p-value threshold for ADF test\n",
    "    \n",
    "    Returns:\n",
    "    - is_cointegrated (bool)\n",
    "    - beta_hat (float)\n",
    "    - adf_pval (float)\n",
    "    - spread (Series): residual spread if cointegrated, else None\n",
    "    \n",
    "    \"\"\"\n",
    "\n",
    "    # Test if both time series are non stationary\n",
    "    pval1 = adfuller(series_x)[1]\n",
    "    pval2 = adfuller(series_y)[1]\n",
    "    if pval1 < significance  or pval2 < significance:\n",
    "        return False, None, None, None\n",
    "\n",
    "    #Fitting model\n",
    "    model = OLS(series_y, add_constant(series_x)).fit()\n",
    "\n",
    "    # Obtaining Residuals + beta (hedge ratio)\n",
    "    resid = model.resid\n",
    "    beta = model.params[1]\n",
    "\n",
    "    # Testing residuals for stationarity\n",
    "    adf_pval = adfuller(resid)[1]\n",
    "\n",
    "    # Boolean, which indicates if the pair is cointegrated or not\n",
    "    is_cointegrated = adf_pval < significance\n",
    "\n",
    "    return is_cointegrated, beta, adf_pval, resid if is_cointegrated else None\n",
    "\n",
    "# Example Usage\n",
    "print(test_cointegration(d1,d2))"
   ]
  },
  {
   "cell_type": "code",
   "execution_count": 18,
   "metadata": {},
   "outputs": [],
   "source": [
    "def find_cointegrated_pairs(log_price_df, significance=0.05):\n",
    "    \"\"\"\n",
    "    Run cointegration tests across all unique pairs of columns in the DataFrame.\n",
    "\n",
    "    Arguments:\n",
    "    - log_price_df: DataFrame of log-transformed prices with each column as an asset\n",
    "    - significance: p-value threshold to confirm cointegration (default = 0.05)\n",
    "\n",
    "    Returns:\n",
    "    - valid_pairs: list of cointegrated asset name pairs (tuple)\n",
    "    - hedge_ratios: dict of (asset1, asset2) : beta\n",
    "    - adf_results: dict of (asset1, asset2) : pval\n",
    "    - spreads: dict of (asset1, asset2) : residual spread \n",
    "    \"\"\"\n",
    "    symbols = log_price_df.columns.tolist()\n",
    "    pairs = [(i, j) for i in symbols for j in symbols if i < j]\n",
    "    valid_pairs = []\n",
    "    hedge_ratios = {}\n",
    "    adf_results = {}\n",
    "    spreads = {}\n",
    "\n",
    "    for a1, a2 in pairs:\n",
    "        y = log_price_df[a1]\n",
    "        x = log_price_df[a2]\n",
    "        is_cointegrated, beta, pval, spread = test_cointegration(y, x, significance)\n",
    "        adf_results[(a1, a2)] = pval\n",
    "        if is_cointegrated:\n",
    "            valid_pairs.append((a1, a2))\n",
    "            hedge_ratios[(a1, a2)] = beta\n",
    "            spreads[(a1, a2)] = spread\n",
    "\n",
    "    return valid_pairs, hedge_ratios, adf_results, spreads\n"
   ]
  },
  {
   "cell_type": "markdown",
   "metadata": {},
   "source": []
  },
  {
   "cell_type": "markdown",
   "metadata": {},
   "source": [
    "## 📐 Spread & Z-score Calculation"
   ]
  },
  {
   "cell_type": "code",
   "execution_count": null,
   "metadata": {},
   "outputs": [],
   "source": []
  }
 ],
 "metadata": {
  "kernelspec": {
   "display_name": ".venv",
   "language": "python",
   "name": ".venv"
  },
  "language_info": {
   "codemirror_mode": {
    "name": "ipython",
    "version": 3
   },
   "file_extension": ".py",
   "mimetype": "text/x-python",
   "name": "python",
   "nbconvert_exporter": "python",
   "pygments_lexer": "ipython3",
   "version": "3.12.8"
  }
 },
 "nbformat": 4,
 "nbformat_minor": 4
}
