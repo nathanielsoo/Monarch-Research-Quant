{
 "cells": [
  {
   "cell_type": "markdown",
   "metadata": {},
   "source": [
    "# Pairs Trading Strategy"
   ]
  },
  {
   "cell_type": "code",
   "execution_count": 8,
   "metadata": {},
   "outputs": [],
   "source": [
    "# Importing of libraries\n",
    "import pandas as pd\n",
    "import numpy as np \n",
    "import matplotlib.pyplot as plt\n",
    "import yfinance as yf"
   ]
  },
  {
   "cell_type": "markdown",
   "metadata": {},
   "source": [
    "## 🧺 Asset Universe Selection/Data preprocessing + cleaning\n"
   ]
  },
  {
   "cell_type": "code",
   "execution_count": 9,
   "metadata": {},
   "outputs": [
    {
     "name": "stderr",
     "output_type": "stream",
     "text": [
      "[*********************100%***********************]  2 of 2 completed"
     ]
    },
    {
     "name": "stdout",
     "output_type": "stream",
     "text": [
      "Date\n",
      "2020-01-02   -2.249312\n",
      "2020-01-03   -2.280818\n",
      "2020-01-06   -2.255225\n",
      "2020-01-07   -2.270426\n",
      "2020-01-08   -2.218962\n",
      "Name: AAPL, dtype: float64\n"
     ]
    },
    {
     "name": "stderr",
     "output_type": "stream",
     "text": [
      "\n"
     ]
    }
   ],
   "source": [
    "# Data preprocessing\n",
    "\n",
    "def normalize_data(ticker1, ticker2, startdate, enddate):\n",
    "    \"\"\"\n",
    "    This function cleans and normalizes the two tickers we wish to pair trade in a given timeframe. \n",
    "\n",
    "    Argument:\n",
    "    ticker1, ticker2 -- the two tickers we want to trade\n",
    "    date1, date2 -- starting and ending dates of the timeframe\n",
    "\n",
    "    Returns:\n",
    "    log_zscore_data -- closing prices for the two tickers, which have been through log transformation and normalization\n",
    "    \n",
    "    \"\"\"\n",
    "    # Log transformation on the data\n",
    "    tickers = [ticker1, ticker2]\n",
    "    data = yf.download(tickers, start=startdate, end=enddate, auto_adjust=True)\n",
    "    data = data.dropna()\n",
    "    log_data1 = np.log1p(data[\"Close\"][ticker1])\n",
    "    log_data2 = np.log1p(data[\"Close\"][ticker2])\n",
    "    \n",
    "    # Calculating the z-scores \n",
    "    log_zscore_data1 = (log_data1-log_data1.mean())/log_data1.std()\n",
    "    log_zscore_data2 = (log_data2-log_data2.mean())/log_data2.std()\n",
    "\n",
    "    return log_zscore_data1, log_zscore_data2\n",
    "\n",
    "\n",
    "# Example usage \n",
    "d1, d2 = normalize_data('AAPL', 'MSFT', '2020-01-01', '2024-12-31')\n",
    "print (d1.head())"
   ]
  },
  {
   "cell_type": "markdown",
   "metadata": {},
   "source": [
    "## 🔍 Cointegration Testing (Engle-Granger)\n"
   ]
  },
  {
   "cell_type": "markdown",
   "metadata": {},
   "source": []
  },
  {
   "cell_type": "markdown",
   "metadata": {},
   "source": [
    "## 📐 Spread & Z-score Calculation"
   ]
  },
  {
   "cell_type": "code",
   "execution_count": null,
   "metadata": {},
   "outputs": [],
   "source": []
  }
 ],
 "metadata": {
  "kernelspec": {
   "display_name": "Python 3 (ipykernel)",
   "language": "python",
   "name": "python3"
  },
  "language_info": {
   "codemirror_mode": {
    "name": "ipython",
    "version": 3
   },
   "file_extension": ".py",
   "mimetype": "text/x-python",
   "name": "python",
   "nbconvert_exporter": "python",
   "pygments_lexer": "ipython3",
   "version": "3.13.0"
  }
 },
 "nbformat": 4,
 "nbformat_minor": 4
}
